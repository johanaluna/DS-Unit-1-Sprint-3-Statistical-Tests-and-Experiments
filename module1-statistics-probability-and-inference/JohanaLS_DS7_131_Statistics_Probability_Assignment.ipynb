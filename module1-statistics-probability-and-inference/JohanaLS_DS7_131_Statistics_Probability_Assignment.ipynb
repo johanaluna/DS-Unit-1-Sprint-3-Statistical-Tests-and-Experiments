{
  "nbformat": 4,
  "nbformat_minor": 0,
  "metadata": {
    "kernelspec": {
      "display_name": "Python 3",
      "language": "python",
      "name": "python3"
    },
    "language_info": {
      "codemirror_mode": {
        "name": "ipython",
        "version": 3
      },
      "file_extension": ".py",
      "mimetype": "text/x-python",
      "name": "python",
      "nbconvert_exporter": "python",
      "pygments_lexer": "ipython3",
      "version": "3.7.3"
    },
    "colab": {
      "name": " JohanaLS_DS7_131_Statistics_Probability_Assignment.ipynb",
      "version": "0.3.2",
      "provenance": [],
      "include_colab_link": true
    }
  },
  "cells": [
    {
      "cell_type": "markdown",
      "metadata": {
        "id": "view-in-github",
        "colab_type": "text"
      },
      "source": [
        "<a href=\"https://colab.research.google.com/github/johanaluna/DS-Unit-1-Sprint-3-Statistical-Tests-and-Experiments/blob/master/module1-statistics-probability-and-inference/JohanaLS_DS7_131_Statistics_Probability_Assignment.ipynb\" target=\"_parent\"><img src=\"https://colab.research.google.com/assets/colab-badge.svg\" alt=\"Open In Colab\"/></a>"
      ]
    },
    {
      "cell_type": "markdown",
      "metadata": {
        "id": "z_V4c2EhWQvz",
        "colab_type": "text"
      },
      "source": [
        "<img align=\"left\" src=\"https://lever-client-logos.s3.amazonaws.com/864372b1-534c-480e-acd5-9711f850815c-1524247202159.png\" width=200>\n",
        "<br></br>\n",
        "<br></br>\n",
        "\n",
        "## *Data Science Unit 1 Sprint 3 Assignment 1*\n",
        "\n",
        "# Apply the t-test to real data\n",
        "\n",
        "Your assignment is to determine which issues have \"statistically significant\" differences between political parties in this [1980s congressional voting data](https://archive.ics.uci.edu/ml/datasets/Congressional+Voting+Records). The data consists of 435 instances (one for each congressperson), a class (democrat or republican), and 16 binary attributes (yes or no for voting for or against certain issues). Be aware - there are missing values!\n",
        "\n",
        "Your goals:\n",
        "\n",
        "1. Load and clean the data (or determine the best method to drop observations when running tests)\n",
        "2. Using hypothesis testing, find an issue that democrats support more than republicans with p < 0.01\n",
        "3. Using hypothesis testing, find an issue that republicans support more than democrats with p < 0.01\n",
        "4. Using hypothesis testing, find an issue where the difference between republicans and democrats has p > 0.1 (i.e. there may not be much of a difference)\n",
        "\n",
        "Note that this data will involve *2 sample* t-tests, because you're comparing averages across two groups (republicans and democrats) rather than a single group against a null hypothesis.\n",
        "\n",
        "Stretch goals:\n",
        "\n",
        "1. Refactor your code into functions so it's easy to rerun with arbitrary variables\n",
        "2. Apply hypothesis testing to your personal project data (for the purposes of this notebook you can type a summary of the hypothesis you formed and tested)"
      ]
    },
    {
      "cell_type": "code",
      "metadata": {
        "id": "wf8SRL9yXGkN",
        "colab_type": "code",
        "colab": {}
      },
      "source": [
        "import pandas as pd\n",
        "import numpy as np\n"
      ],
      "execution_count": 0,
      "outputs": []
    },
    {
      "cell_type": "code",
      "metadata": {
        "id": "3LZ49fSvWQv2",
        "colab_type": "code",
        "colab": {}
      },
      "source": [
        "\n",
        "url='https://archive.ics.uci.edu/ml/machine-learning-databases/voting-records/house-votes-84.data'\n",
        "df = pd.read_csv(url, \n",
        "                 header=None,\n",
        "                 names=['party','handicapped-infants','water-project',\n",
        "                          'budget','physician-fee-freeze', 'el-salvador-aid',\n",
        "                          'religious-groups','anti-satellite-ban',\n",
        "                          'aid-to-contras','mx-missile','immigration',\n",
        "                          'synfuels', 'education', 'right-to-sue','crime','duty-free',\n",
        "                          'south-africa'])"
      ],
      "execution_count": 0,
      "outputs": []
    },
    {
      "cell_type": "code",
      "metadata": {
        "id": "s0nZ48VIYIEa",
        "colab_type": "code",
        "colab": {
          "base_uri": "https://localhost:8080/",
          "height": 234
        },
        "outputId": "c39eb224-6c6c-4414-e656-c09c103aa8f7"
      },
      "source": [
        "df.head()"
      ],
      "execution_count": 227,
      "outputs": [
        {
          "output_type": "execute_result",
          "data": {
            "text/html": [
              "<div>\n",
              "<style scoped>\n",
              "    .dataframe tbody tr th:only-of-type {\n",
              "        vertical-align: middle;\n",
              "    }\n",
              "\n",
              "    .dataframe tbody tr th {\n",
              "        vertical-align: top;\n",
              "    }\n",
              "\n",
              "    .dataframe thead th {\n",
              "        text-align: right;\n",
              "    }\n",
              "</style>\n",
              "<table border=\"1\" class=\"dataframe\">\n",
              "  <thead>\n",
              "    <tr style=\"text-align: right;\">\n",
              "      <th></th>\n",
              "      <th>party</th>\n",
              "      <th>handicapped-infants</th>\n",
              "      <th>water-project</th>\n",
              "      <th>budget</th>\n",
              "      <th>physician-fee-freeze</th>\n",
              "      <th>el-salvador-aid</th>\n",
              "      <th>religious-groups</th>\n",
              "      <th>anti-satellite-ban</th>\n",
              "      <th>aid-to-contras</th>\n",
              "      <th>mx-missile</th>\n",
              "      <th>immigration</th>\n",
              "      <th>synfuels</th>\n",
              "      <th>education</th>\n",
              "      <th>right-to-sue</th>\n",
              "      <th>crime</th>\n",
              "      <th>duty-free</th>\n",
              "      <th>south-africa</th>\n",
              "    </tr>\n",
              "  </thead>\n",
              "  <tbody>\n",
              "    <tr>\n",
              "      <th>0</th>\n",
              "      <td>republican</td>\n",
              "      <td>0.0</td>\n",
              "      <td>1.0</td>\n",
              "      <td>0.0</td>\n",
              "      <td>1.0</td>\n",
              "      <td>1.0</td>\n",
              "      <td>1.0</td>\n",
              "      <td>0.0</td>\n",
              "      <td>0.0</td>\n",
              "      <td>0.0</td>\n",
              "      <td>1.0</td>\n",
              "      <td>NaN</td>\n",
              "      <td>1.0</td>\n",
              "      <td>1.0</td>\n",
              "      <td>1.0</td>\n",
              "      <td>0.0</td>\n",
              "      <td>1.0</td>\n",
              "    </tr>\n",
              "    <tr>\n",
              "      <th>1</th>\n",
              "      <td>republican</td>\n",
              "      <td>0.0</td>\n",
              "      <td>1.0</td>\n",
              "      <td>0.0</td>\n",
              "      <td>1.0</td>\n",
              "      <td>1.0</td>\n",
              "      <td>1.0</td>\n",
              "      <td>0.0</td>\n",
              "      <td>0.0</td>\n",
              "      <td>0.0</td>\n",
              "      <td>0.0</td>\n",
              "      <td>0.0</td>\n",
              "      <td>1.0</td>\n",
              "      <td>1.0</td>\n",
              "      <td>1.0</td>\n",
              "      <td>0.0</td>\n",
              "      <td>NaN</td>\n",
              "    </tr>\n",
              "    <tr>\n",
              "      <th>2</th>\n",
              "      <td>democrat</td>\n",
              "      <td>NaN</td>\n",
              "      <td>1.0</td>\n",
              "      <td>1.0</td>\n",
              "      <td>NaN</td>\n",
              "      <td>1.0</td>\n",
              "      <td>1.0</td>\n",
              "      <td>0.0</td>\n",
              "      <td>0.0</td>\n",
              "      <td>0.0</td>\n",
              "      <td>0.0</td>\n",
              "      <td>1.0</td>\n",
              "      <td>0.0</td>\n",
              "      <td>1.0</td>\n",
              "      <td>1.0</td>\n",
              "      <td>0.0</td>\n",
              "      <td>0.0</td>\n",
              "    </tr>\n",
              "    <tr>\n",
              "      <th>3</th>\n",
              "      <td>democrat</td>\n",
              "      <td>0.0</td>\n",
              "      <td>1.0</td>\n",
              "      <td>1.0</td>\n",
              "      <td>0.0</td>\n",
              "      <td>NaN</td>\n",
              "      <td>1.0</td>\n",
              "      <td>0.0</td>\n",
              "      <td>0.0</td>\n",
              "      <td>0.0</td>\n",
              "      <td>0.0</td>\n",
              "      <td>1.0</td>\n",
              "      <td>0.0</td>\n",
              "      <td>1.0</td>\n",
              "      <td>0.0</td>\n",
              "      <td>0.0</td>\n",
              "      <td>1.0</td>\n",
              "    </tr>\n",
              "    <tr>\n",
              "      <th>4</th>\n",
              "      <td>democrat</td>\n",
              "      <td>1.0</td>\n",
              "      <td>1.0</td>\n",
              "      <td>1.0</td>\n",
              "      <td>0.0</td>\n",
              "      <td>1.0</td>\n",
              "      <td>1.0</td>\n",
              "      <td>0.0</td>\n",
              "      <td>0.0</td>\n",
              "      <td>0.0</td>\n",
              "      <td>0.0</td>\n",
              "      <td>1.0</td>\n",
              "      <td>NaN</td>\n",
              "      <td>1.0</td>\n",
              "      <td>1.0</td>\n",
              "      <td>1.0</td>\n",
              "      <td>1.0</td>\n",
              "    </tr>\n",
              "  </tbody>\n",
              "</table>\n",
              "</div>"
            ],
            "text/plain": [
              "        party  handicapped-infants  ...  duty-free  south-africa\n",
              "0  republican                  0.0  ...        0.0           1.0\n",
              "1  republican                  0.0  ...        0.0           NaN\n",
              "2    democrat                  NaN  ...        0.0           0.0\n",
              "3    democrat                  0.0  ...        0.0           1.0\n",
              "4    democrat                  1.0  ...        1.0           1.0\n",
              "\n",
              "[5 rows x 17 columns]"
            ]
          },
          "metadata": {
            "tags": []
          },
          "execution_count": 227
        }
      ]
    },
    {
      "cell_type": "code",
      "metadata": {
        "id": "01zieu0RZ7W4",
        "colab_type": "code",
        "colab": {
          "base_uri": "https://localhost:8080/",
          "height": 32
        },
        "outputId": "6ae8804e-035d-4e7e-b32a-11c285d65974"
      },
      "source": [
        "print(df.shape) #check size of my data"
      ],
      "execution_count": 15,
      "outputs": [
        {
          "output_type": "stream",
          "text": [
            "(435, 17)\n"
          ],
          "name": "stdout"
        }
      ]
    },
    {
      "cell_type": "code",
      "metadata": {
        "id": "WCS52jOFaIA0",
        "colab_type": "code",
        "colab": {
          "base_uri": "https://localhost:8080/",
          "height": 312
        },
        "outputId": "8b67fd4f-59d9-45f3-908a-5dc90b9997b3"
      },
      "source": [
        "   df.isnull().sum(axis = 0) #axis =0 means by columns "
      ],
      "execution_count": 16,
      "outputs": [
        {
          "output_type": "execute_result",
          "data": {
            "text/plain": [
              "party                   0\n",
              "handicapped-infants     0\n",
              "water-project           0\n",
              "budget                  0\n",
              "physician-fee-freeze    0\n",
              "el-salvador-aid         0\n",
              "religious-groups        0\n",
              "anti-satellite-ban      0\n",
              "aid-to-contras          0\n",
              "mx-missile              0\n",
              "immigration             0\n",
              "synfuels                0\n",
              "education               0\n",
              "right-to-sue            0\n",
              "crime                   0\n",
              "duty-free               0\n",
              "south-africa            0\n",
              "dtype: int64"
            ]
          },
          "metadata": {
            "tags": []
          },
          "execution_count": 16
        }
      ]
    },
    {
      "cell_type": "code",
      "metadata": {
        "id": "U02m14BJatgQ",
        "colab_type": "code",
        "colab": {
          "base_uri": "https://localhost:8080/",
          "height": 312
        },
        "outputId": "bf9afbe9-7302-4e8e-e530-995b2cb575f2"
      },
      "source": [
        "df.dtypes"
      ],
      "execution_count": 17,
      "outputs": [
        {
          "output_type": "execute_result",
          "data": {
            "text/plain": [
              "party                   object\n",
              "handicapped-infants     object\n",
              "water-project           object\n",
              "budget                  object\n",
              "physician-fee-freeze    object\n",
              "el-salvador-aid         object\n",
              "religious-groups        object\n",
              "anti-satellite-ban      object\n",
              "aid-to-contras          object\n",
              "mx-missile              object\n",
              "immigration             object\n",
              "synfuels                object\n",
              "education               object\n",
              "right-to-sue            object\n",
              "crime                   object\n",
              "duty-free               object\n",
              "south-africa            object\n",
              "dtype: object"
            ]
          },
          "metadata": {
            "tags": []
          },
          "execution_count": 17
        }
      ]
    },
    {
      "cell_type": "code",
      "metadata": {
        "id": "NRq2OT_5avuM",
        "colab_type": "code",
        "colab": {
          "base_uri": "https://localhost:8080/",
          "height": 234
        },
        "outputId": "cb7e64b8-f995-479f-c717-d044d0ba04a3"
      },
      "source": [
        "df = df.replace({'?':np.NaN, 'n':0, 'y':1})\n",
        "df.head()"
      ],
      "execution_count": 228,
      "outputs": [
        {
          "output_type": "execute_result",
          "data": {
            "text/html": [
              "<div>\n",
              "<style scoped>\n",
              "    .dataframe tbody tr th:only-of-type {\n",
              "        vertical-align: middle;\n",
              "    }\n",
              "\n",
              "    .dataframe tbody tr th {\n",
              "        vertical-align: top;\n",
              "    }\n",
              "\n",
              "    .dataframe thead th {\n",
              "        text-align: right;\n",
              "    }\n",
              "</style>\n",
              "<table border=\"1\" class=\"dataframe\">\n",
              "  <thead>\n",
              "    <tr style=\"text-align: right;\">\n",
              "      <th></th>\n",
              "      <th>party</th>\n",
              "      <th>handicapped-infants</th>\n",
              "      <th>water-project</th>\n",
              "      <th>budget</th>\n",
              "      <th>physician-fee-freeze</th>\n",
              "      <th>el-salvador-aid</th>\n",
              "      <th>religious-groups</th>\n",
              "      <th>anti-satellite-ban</th>\n",
              "      <th>aid-to-contras</th>\n",
              "      <th>mx-missile</th>\n",
              "      <th>immigration</th>\n",
              "      <th>synfuels</th>\n",
              "      <th>education</th>\n",
              "      <th>right-to-sue</th>\n",
              "      <th>crime</th>\n",
              "      <th>duty-free</th>\n",
              "      <th>south-africa</th>\n",
              "    </tr>\n",
              "  </thead>\n",
              "  <tbody>\n",
              "    <tr>\n",
              "      <th>0</th>\n",
              "      <td>republican</td>\n",
              "      <td>0.0</td>\n",
              "      <td>1.0</td>\n",
              "      <td>0.0</td>\n",
              "      <td>1.0</td>\n",
              "      <td>1.0</td>\n",
              "      <td>1.0</td>\n",
              "      <td>0.0</td>\n",
              "      <td>0.0</td>\n",
              "      <td>0.0</td>\n",
              "      <td>1.0</td>\n",
              "      <td>NaN</td>\n",
              "      <td>1.0</td>\n",
              "      <td>1.0</td>\n",
              "      <td>1.0</td>\n",
              "      <td>0.0</td>\n",
              "      <td>1.0</td>\n",
              "    </tr>\n",
              "    <tr>\n",
              "      <th>1</th>\n",
              "      <td>republican</td>\n",
              "      <td>0.0</td>\n",
              "      <td>1.0</td>\n",
              "      <td>0.0</td>\n",
              "      <td>1.0</td>\n",
              "      <td>1.0</td>\n",
              "      <td>1.0</td>\n",
              "      <td>0.0</td>\n",
              "      <td>0.0</td>\n",
              "      <td>0.0</td>\n",
              "      <td>0.0</td>\n",
              "      <td>0.0</td>\n",
              "      <td>1.0</td>\n",
              "      <td>1.0</td>\n",
              "      <td>1.0</td>\n",
              "      <td>0.0</td>\n",
              "      <td>NaN</td>\n",
              "    </tr>\n",
              "    <tr>\n",
              "      <th>2</th>\n",
              "      <td>democrat</td>\n",
              "      <td>NaN</td>\n",
              "      <td>1.0</td>\n",
              "      <td>1.0</td>\n",
              "      <td>NaN</td>\n",
              "      <td>1.0</td>\n",
              "      <td>1.0</td>\n",
              "      <td>0.0</td>\n",
              "      <td>0.0</td>\n",
              "      <td>0.0</td>\n",
              "      <td>0.0</td>\n",
              "      <td>1.0</td>\n",
              "      <td>0.0</td>\n",
              "      <td>1.0</td>\n",
              "      <td>1.0</td>\n",
              "      <td>0.0</td>\n",
              "      <td>0.0</td>\n",
              "    </tr>\n",
              "    <tr>\n",
              "      <th>3</th>\n",
              "      <td>democrat</td>\n",
              "      <td>0.0</td>\n",
              "      <td>1.0</td>\n",
              "      <td>1.0</td>\n",
              "      <td>0.0</td>\n",
              "      <td>NaN</td>\n",
              "      <td>1.0</td>\n",
              "      <td>0.0</td>\n",
              "      <td>0.0</td>\n",
              "      <td>0.0</td>\n",
              "      <td>0.0</td>\n",
              "      <td>1.0</td>\n",
              "      <td>0.0</td>\n",
              "      <td>1.0</td>\n",
              "      <td>0.0</td>\n",
              "      <td>0.0</td>\n",
              "      <td>1.0</td>\n",
              "    </tr>\n",
              "    <tr>\n",
              "      <th>4</th>\n",
              "      <td>democrat</td>\n",
              "      <td>1.0</td>\n",
              "      <td>1.0</td>\n",
              "      <td>1.0</td>\n",
              "      <td>0.0</td>\n",
              "      <td>1.0</td>\n",
              "      <td>1.0</td>\n",
              "      <td>0.0</td>\n",
              "      <td>0.0</td>\n",
              "      <td>0.0</td>\n",
              "      <td>0.0</td>\n",
              "      <td>1.0</td>\n",
              "      <td>NaN</td>\n",
              "      <td>1.0</td>\n",
              "      <td>1.0</td>\n",
              "      <td>1.0</td>\n",
              "      <td>1.0</td>\n",
              "    </tr>\n",
              "  </tbody>\n",
              "</table>\n",
              "</div>"
            ],
            "text/plain": [
              "        party  handicapped-infants  ...  duty-free  south-africa\n",
              "0  republican                  0.0  ...        0.0           1.0\n",
              "1  republican                  0.0  ...        0.0           NaN\n",
              "2    democrat                  NaN  ...        0.0           0.0\n",
              "3    democrat                  0.0  ...        0.0           1.0\n",
              "4    democrat                  1.0  ...        1.0           1.0\n",
              "\n",
              "[5 rows x 17 columns]"
            ]
          },
          "metadata": {
            "tags": []
          },
          "execution_count": 228
        }
      ]
    },
    {
      "cell_type": "code",
      "metadata": {
        "id": "fOFnBOHTdQX4",
        "colab_type": "code",
        "colab": {
          "base_uri": "https://localhost:8080/",
          "height": 312
        },
        "outputId": "34e26a67-e33f-4d78-fb90-dc6487bbe539"
      },
      "source": [
        "df.isnull().sum(axis = 0) #Axis=0 means in the columns"
      ],
      "execution_count": 19,
      "outputs": [
        {
          "output_type": "execute_result",
          "data": {
            "text/plain": [
              "party                     0\n",
              "handicapped-infants      12\n",
              "water-project            48\n",
              "budget                   11\n",
              "physician-fee-freeze     11\n",
              "el-salvador-aid          15\n",
              "religious-groups         11\n",
              "anti-satellite-ban       14\n",
              "aid-to-contras           15\n",
              "mx-missile               22\n",
              "immigration               7\n",
              "synfuels                 21\n",
              "education                31\n",
              "right-to-sue             25\n",
              "crime                    17\n",
              "duty-free                28\n",
              "south-africa            104\n",
              "dtype: int64"
            ]
          },
          "metadata": {
            "tags": []
          },
          "execution_count": 19
        }
      ]
    },
    {
      "cell_type": "code",
      "metadata": {
        "id": "BpMA2FaWddg2",
        "colab_type": "code",
        "colab": {
          "base_uri": "https://localhost:8080/",
          "height": 350
        },
        "outputId": "f3bf5fdf-f441-407e-ea9e-a71dfea6d896"
      },
      "source": [
        "republican = df[df.party == \"republican\"]#split data by party\n",
        "print(republican.shape)\n",
        "republican.head()"
      ],
      "execution_count": 20,
      "outputs": [
        {
          "output_type": "stream",
          "text": [
            "(168, 17)\n"
          ],
          "name": "stdout"
        },
        {
          "output_type": "execute_result",
          "data": {
            "text/html": [
              "<div>\n",
              "<style scoped>\n",
              "    .dataframe tbody tr th:only-of-type {\n",
              "        vertical-align: middle;\n",
              "    }\n",
              "\n",
              "    .dataframe tbody tr th {\n",
              "        vertical-align: top;\n",
              "    }\n",
              "\n",
              "    .dataframe thead th {\n",
              "        text-align: right;\n",
              "    }\n",
              "</style>\n",
              "<table border=\"1\" class=\"dataframe\">\n",
              "  <thead>\n",
              "    <tr style=\"text-align: right;\">\n",
              "      <th></th>\n",
              "      <th>party</th>\n",
              "      <th>handicapped-infants</th>\n",
              "      <th>water-project</th>\n",
              "      <th>budget</th>\n",
              "      <th>physician-fee-freeze</th>\n",
              "      <th>el-salvador-aid</th>\n",
              "      <th>religious-groups</th>\n",
              "      <th>anti-satellite-ban</th>\n",
              "      <th>aid-to-contras</th>\n",
              "      <th>mx-missile</th>\n",
              "      <th>immigration</th>\n",
              "      <th>synfuels</th>\n",
              "      <th>education</th>\n",
              "      <th>right-to-sue</th>\n",
              "      <th>crime</th>\n",
              "      <th>duty-free</th>\n",
              "      <th>south-africa</th>\n",
              "    </tr>\n",
              "  </thead>\n",
              "  <tbody>\n",
              "    <tr>\n",
              "      <th>0</th>\n",
              "      <td>republican</td>\n",
              "      <td>0.0</td>\n",
              "      <td>1.0</td>\n",
              "      <td>0.0</td>\n",
              "      <td>1.0</td>\n",
              "      <td>1.0</td>\n",
              "      <td>1.0</td>\n",
              "      <td>0.0</td>\n",
              "      <td>0.0</td>\n",
              "      <td>0.0</td>\n",
              "      <td>1.0</td>\n",
              "      <td>NaN</td>\n",
              "      <td>1.0</td>\n",
              "      <td>1.0</td>\n",
              "      <td>1.0</td>\n",
              "      <td>0.0</td>\n",
              "      <td>1.0</td>\n",
              "    </tr>\n",
              "    <tr>\n",
              "      <th>1</th>\n",
              "      <td>republican</td>\n",
              "      <td>0.0</td>\n",
              "      <td>1.0</td>\n",
              "      <td>0.0</td>\n",
              "      <td>1.0</td>\n",
              "      <td>1.0</td>\n",
              "      <td>1.0</td>\n",
              "      <td>0.0</td>\n",
              "      <td>0.0</td>\n",
              "      <td>0.0</td>\n",
              "      <td>0.0</td>\n",
              "      <td>0.0</td>\n",
              "      <td>1.0</td>\n",
              "      <td>1.0</td>\n",
              "      <td>1.0</td>\n",
              "      <td>0.0</td>\n",
              "      <td>NaN</td>\n",
              "    </tr>\n",
              "    <tr>\n",
              "      <th>7</th>\n",
              "      <td>republican</td>\n",
              "      <td>0.0</td>\n",
              "      <td>1.0</td>\n",
              "      <td>0.0</td>\n",
              "      <td>1.0</td>\n",
              "      <td>1.0</td>\n",
              "      <td>1.0</td>\n",
              "      <td>0.0</td>\n",
              "      <td>0.0</td>\n",
              "      <td>0.0</td>\n",
              "      <td>0.0</td>\n",
              "      <td>0.0</td>\n",
              "      <td>0.0</td>\n",
              "      <td>1.0</td>\n",
              "      <td>1.0</td>\n",
              "      <td>NaN</td>\n",
              "      <td>1.0</td>\n",
              "    </tr>\n",
              "    <tr>\n",
              "      <th>8</th>\n",
              "      <td>republican</td>\n",
              "      <td>0.0</td>\n",
              "      <td>1.0</td>\n",
              "      <td>0.0</td>\n",
              "      <td>1.0</td>\n",
              "      <td>1.0</td>\n",
              "      <td>1.0</td>\n",
              "      <td>0.0</td>\n",
              "      <td>0.0</td>\n",
              "      <td>0.0</td>\n",
              "      <td>0.0</td>\n",
              "      <td>0.0</td>\n",
              "      <td>1.0</td>\n",
              "      <td>1.0</td>\n",
              "      <td>1.0</td>\n",
              "      <td>0.0</td>\n",
              "      <td>1.0</td>\n",
              "    </tr>\n",
              "    <tr>\n",
              "      <th>10</th>\n",
              "      <td>republican</td>\n",
              "      <td>0.0</td>\n",
              "      <td>1.0</td>\n",
              "      <td>0.0</td>\n",
              "      <td>1.0</td>\n",
              "      <td>1.0</td>\n",
              "      <td>0.0</td>\n",
              "      <td>0.0</td>\n",
              "      <td>0.0</td>\n",
              "      <td>0.0</td>\n",
              "      <td>0.0</td>\n",
              "      <td>NaN</td>\n",
              "      <td>NaN</td>\n",
              "      <td>1.0</td>\n",
              "      <td>1.0</td>\n",
              "      <td>0.0</td>\n",
              "      <td>0.0</td>\n",
              "    </tr>\n",
              "  </tbody>\n",
              "</table>\n",
              "</div>"
            ],
            "text/plain": [
              "         party  handicapped-infants  ...  duty-free  south-africa\n",
              "0   republican                  0.0  ...        0.0           1.0\n",
              "1   republican                  0.0  ...        0.0           NaN\n",
              "7   republican                  0.0  ...        NaN           1.0\n",
              "8   republican                  0.0  ...        0.0           1.0\n",
              "10  republican                  0.0  ...        0.0           0.0\n",
              "\n",
              "[5 rows x 17 columns]"
            ]
          },
          "metadata": {
            "tags": []
          },
          "execution_count": 20
        }
      ]
    },
    {
      "cell_type": "code",
      "metadata": {
        "id": "XRNotk1Cdkhm",
        "colab_type": "code",
        "colab": {
          "base_uri": "https://localhost:8080/",
          "height": 250
        },
        "outputId": "3ec28c7e-13be-4fce-88bd-d6444666052e"
      },
      "source": [
        "democrat = df[df.party == \"democrat\"]\n",
        "print(democrat.shape)\n",
        "democrat.head()"
      ],
      "execution_count": 233,
      "outputs": [
        {
          "output_type": "stream",
          "text": [
            "(267, 17)\n"
          ],
          "name": "stdout"
        },
        {
          "output_type": "execute_result",
          "data": {
            "text/html": [
              "<div>\n",
              "<style scoped>\n",
              "    .dataframe tbody tr th:only-of-type {\n",
              "        vertical-align: middle;\n",
              "    }\n",
              "\n",
              "    .dataframe tbody tr th {\n",
              "        vertical-align: top;\n",
              "    }\n",
              "\n",
              "    .dataframe thead th {\n",
              "        text-align: right;\n",
              "    }\n",
              "</style>\n",
              "<table border=\"1\" class=\"dataframe\">\n",
              "  <thead>\n",
              "    <tr style=\"text-align: right;\">\n",
              "      <th></th>\n",
              "      <th>party</th>\n",
              "      <th>handicapped-infants</th>\n",
              "      <th>water-project</th>\n",
              "      <th>budget</th>\n",
              "      <th>physician-fee-freeze</th>\n",
              "      <th>el-salvador-aid</th>\n",
              "      <th>religious-groups</th>\n",
              "      <th>anti-satellite-ban</th>\n",
              "      <th>aid-to-contras</th>\n",
              "      <th>mx-missile</th>\n",
              "      <th>immigration</th>\n",
              "      <th>synfuels</th>\n",
              "      <th>education</th>\n",
              "      <th>right-to-sue</th>\n",
              "      <th>crime</th>\n",
              "      <th>duty-free</th>\n",
              "      <th>south-africa</th>\n",
              "    </tr>\n",
              "  </thead>\n",
              "  <tbody>\n",
              "    <tr>\n",
              "      <th>2</th>\n",
              "      <td>democrat</td>\n",
              "      <td>NaN</td>\n",
              "      <td>1.0</td>\n",
              "      <td>1.0</td>\n",
              "      <td>NaN</td>\n",
              "      <td>1.0</td>\n",
              "      <td>1.0</td>\n",
              "      <td>0.0</td>\n",
              "      <td>0.0</td>\n",
              "      <td>0.0</td>\n",
              "      <td>0.0</td>\n",
              "      <td>1.0</td>\n",
              "      <td>0.0</td>\n",
              "      <td>1.0</td>\n",
              "      <td>1.0</td>\n",
              "      <td>0.0</td>\n",
              "      <td>0.0</td>\n",
              "    </tr>\n",
              "    <tr>\n",
              "      <th>3</th>\n",
              "      <td>democrat</td>\n",
              "      <td>0.0</td>\n",
              "      <td>1.0</td>\n",
              "      <td>1.0</td>\n",
              "      <td>0.0</td>\n",
              "      <td>NaN</td>\n",
              "      <td>1.0</td>\n",
              "      <td>0.0</td>\n",
              "      <td>0.0</td>\n",
              "      <td>0.0</td>\n",
              "      <td>0.0</td>\n",
              "      <td>1.0</td>\n",
              "      <td>0.0</td>\n",
              "      <td>1.0</td>\n",
              "      <td>0.0</td>\n",
              "      <td>0.0</td>\n",
              "      <td>1.0</td>\n",
              "    </tr>\n",
              "    <tr>\n",
              "      <th>4</th>\n",
              "      <td>democrat</td>\n",
              "      <td>1.0</td>\n",
              "      <td>1.0</td>\n",
              "      <td>1.0</td>\n",
              "      <td>0.0</td>\n",
              "      <td>1.0</td>\n",
              "      <td>1.0</td>\n",
              "      <td>0.0</td>\n",
              "      <td>0.0</td>\n",
              "      <td>0.0</td>\n",
              "      <td>0.0</td>\n",
              "      <td>1.0</td>\n",
              "      <td>NaN</td>\n",
              "      <td>1.0</td>\n",
              "      <td>1.0</td>\n",
              "      <td>1.0</td>\n",
              "      <td>1.0</td>\n",
              "    </tr>\n",
              "    <tr>\n",
              "      <th>5</th>\n",
              "      <td>democrat</td>\n",
              "      <td>0.0</td>\n",
              "      <td>1.0</td>\n",
              "      <td>1.0</td>\n",
              "      <td>0.0</td>\n",
              "      <td>1.0</td>\n",
              "      <td>1.0</td>\n",
              "      <td>0.0</td>\n",
              "      <td>0.0</td>\n",
              "      <td>0.0</td>\n",
              "      <td>0.0</td>\n",
              "      <td>0.0</td>\n",
              "      <td>0.0</td>\n",
              "      <td>1.0</td>\n",
              "      <td>1.0</td>\n",
              "      <td>1.0</td>\n",
              "      <td>1.0</td>\n",
              "    </tr>\n",
              "    <tr>\n",
              "      <th>6</th>\n",
              "      <td>democrat</td>\n",
              "      <td>0.0</td>\n",
              "      <td>1.0</td>\n",
              "      <td>0.0</td>\n",
              "      <td>1.0</td>\n",
              "      <td>1.0</td>\n",
              "      <td>1.0</td>\n",
              "      <td>0.0</td>\n",
              "      <td>0.0</td>\n",
              "      <td>0.0</td>\n",
              "      <td>0.0</td>\n",
              "      <td>0.0</td>\n",
              "      <td>0.0</td>\n",
              "      <td>NaN</td>\n",
              "      <td>1.0</td>\n",
              "      <td>1.0</td>\n",
              "      <td>1.0</td>\n",
              "    </tr>\n",
              "  </tbody>\n",
              "</table>\n",
              "</div>"
            ],
            "text/plain": [
              "      party  handicapped-infants  water-project  ...  crime  duty-free  south-africa\n",
              "2  democrat                  NaN            1.0  ...    1.0        0.0           0.0\n",
              "3  democrat                  0.0            1.0  ...    0.0        0.0           1.0\n",
              "4  democrat                  1.0            1.0  ...    1.0        1.0           1.0\n",
              "5  democrat                  0.0            1.0  ...    1.0        1.0           1.0\n",
              "6  democrat                  0.0            1.0  ...    1.0        1.0           1.0\n",
              "\n",
              "[5 rows x 17 columns]"
            ]
          },
          "metadata": {
            "tags": []
          },
          "execution_count": 233
        }
      ]
    },
    {
      "cell_type": "code",
      "metadata": {
        "id": "3eR4tAjZeLDk",
        "colab_type": "code",
        "colab": {
          "base_uri": "https://localhost:8080/",
          "height": 65
        },
        "outputId": "fdc7ca00-50bc-4d4f-85d0-4af64f9410b6"
      },
      "source": [
        "df.party.value_counts() #Count the different parties in the data and check with my split data"
      ],
      "execution_count": 22,
      "outputs": [
        {
          "output_type": "execute_result",
          "data": {
            "text/plain": [
              "democrat      267\n",
              "republican    168\n",
              "Name: party, dtype: int64"
            ]
          },
          "metadata": {
            "tags": []
          },
          "execution_count": 22
        }
      ]
    },
    {
      "cell_type": "code",
      "metadata": {
        "id": "8f82Su_keU17",
        "colab_type": "code",
        "colab": {}
      },
      "source": [
        "from scipy.stats import ttest_ind, ttest_ind_from_stats, ttest_rel"
      ],
      "execution_count": 0,
      "outputs": []
    },
    {
      "cell_type": "markdown",
      "metadata": {
        "id": "oPc75AqA16iN",
        "colab_type": "text"
      },
      "source": [
        "# 1 Sample T-test\n"
      ]
    },
    {
      "cell_type": "code",
      "metadata": {
        "id": "HRLqUKQUev4j",
        "colab_type": "code",
        "colab": {
          "base_uri": "https://localhost:8080/",
          "height": 115
        },
        "outputId": "78e86a2c-3f8d-4471-f0c2-09f89c3d7a67"
      },
      "source": [
        "# ******JUST FOR IMMIGRATION \n",
        "# Null Hypothesis: There is 0 support for this bill among Republicans in the House\n",
        "# Alternative: There is non-0 support (some support) for this bill\n",
        "\n",
        "print('Null hypothesis is there is 0 support for the immigration project.\\n')\n",
        "ttest_immi= ttest_1samp(republican['immigration'], 0, nan_policy='omit') # zero because \"no\" anwers was changed to value zero thne if the population mean is zero means that nobody supported that project\n",
        "print('Conclusion: ')\n",
        "print('Due to a t-statistic of',ttest_immi[0], 'and a p-value of', ttest_immi[1]) #Remember ### the smaller my p-value the bigger my t-test will be\n",
        "if ttest_immi[1] < 0.05: #Evaluate that my p-value is smaller that my alpha. If is smaller then my population is different. \n",
        "  print('\\nWe reject the null hypothesis. This suggests that there is some support for the immigration project')\n",
        "else:\n",
        "  print('\\nThe null hypothesis is correct. There is no support for the immigration project')\n"
      ],
      "execution_count": 232,
      "outputs": [
        {
          "output_type": "stream",
          "text": [
            "Null hypothesis is there is 0 support for the immigration project.\n",
            "\n",
            "Conclusion: \n",
            "Due to a t-statistic of 14.376541013291384 and a p-value of 7.541248569126767e-31\n",
            "\n",
            "We reject the null hypothesis. This suggests that there is some support for the immigration project\n"
          ],
          "name": "stdout"
        }
      ]
    },
    {
      "cell_type": "code",
      "metadata": {
        "id": "hJk5fjk2eSa9",
        "colab_type": "code",
        "colab": {
          "base_uri": "https://localhost:8080/",
          "height": 115
        },
        "outputId": "46197e61-c7fb-413e-ad1a-1e1d9fee8828"
      },
      "source": [
        "# Null Hypothesis: Republican support is evenly divided\n",
        "# Alternative: Republican support is  not evenly divided\n",
        "print('Null hypothesis: the Republican support is evenly divided.\\n')\n",
        "ttest_immi_rep= ttest_1samp(republican['immigration'], 0.5, nan_policy='omit') ## population mean =0.5 that the votes were equal for yes and no .\n",
        "print('Conclusion: ')\n",
        "print('Due to a t-statistic of',ttest_immi_rep[0], 'and a p-value of', ttest_immi_rep[1])\n",
        "if ttest_immi_rep[1] < 0.5:\n",
        "  print('\\nWe reject the null hypothesis for the immigration project. The ssupport is not evenly divided')\n",
        "else:\n",
        "  print('\\nThe null hypothesis is correct, the Republican support is evenly divided')"
      ],
      "execution_count": 99,
      "outputs": [
        {
          "output_type": "stream",
          "text": [
            "Null hypothesis: the Republican support is evenly divided.\n",
            "\n",
            "Conclusion: \n",
            "Due to a t-statistic of 1.4845341263724807 and a p-value of 0.1395867786115413\n",
            "\n",
            "We reject the null hypothesis for the immigration project. The ssupport is not evenly divided\n"
          ],
          "name": "stdout"
        }
      ]
    },
    {
      "cell_type": "markdown",
      "metadata": {
        "id": "cnNW3brm4R4S",
        "colab_type": "text"
      },
      "source": [
        "# 1 Sample T-test\n",
        "*Now I created a function to test all the data *"
      ]
    },
    {
      "cell_type": "code",
      "metadata": {
        "id": "wJbZxPG50pud",
        "colab_type": "code",
        "colab": {}
      },
      "source": [
        "# Null Hypothesis: There is 0 support for this bill among Republicans in the House\n",
        "# Alternative: There is non-0 support (some support) for this bill\n",
        "\n",
        "namescolumns=['handicapped-infants','water-project','budget','physician-fee-freeze', 'el-salvador-aid',\n",
        "                          'religious-groups','anti-satellite-ban',\n",
        "                          'aid-to-contras','mx-missile','immigration',\n",
        "                          'synfuels', 'education', 'right-to-sue','crime','duty-free',\n",
        "                          'south-africa']\n",
        "\n",
        "def rep_zero_sup(n):\n",
        "  print('Alpha =',n)\n",
        "  print('*** REPUBLICANS ZERO SUPPORT *** ')                          \n",
        "  for x in namescolumns:\n",
        "    print('\\nANALIZING..... ',x)\n",
        "    print(' Null hypothesis: 0 support for the',x, 'project.')\n",
        "    ttest_data= ttest_1samp(republican[x], 0, nan_policy='omit')\n",
        "    print('   t-statistic:',ttest_data[0], '  p-value:', ttest_data[1])\n",
        "    if ttest_data[1] < alpha_value:\n",
        "      print(' We reject the null hypothesis. This suggest that there is some support for the',x,'project')\n",
        "      print('----------------')\n",
        "    else:\n",
        "      print('The null hypothesis is correct. There is no support for the',x ,'project')\n",
        "      print('----------------')\n",
        "\n",
        "def rep_eq_support(n):\n",
        "  print('Alpha =',n)\n",
        "  print('*** REPUBLICANS EQUAL SUPPORT *** ') \n",
        "  for x in namescolumns:\n",
        "    print('\\nANALIZING..... ',x)\n",
        "    print('Null hypothesis: the Republican support is evenly divided.')\n",
        "    ttest_immi_alt= ttest_1samp(republican[x], 0.5, nan_policy='omit') #if pvalue is less than 0.05 then calculate for my second alternative\n",
        "    print('   t-statistic:',ttest_immi_rep[0], ' p-value:', ttest_immi_rep[1])\n",
        "    if ttest_immi_alt[1] < alpha_value:\n",
        "      print('   We reject the null hypothesis for the',x,'project. The ssupport is not evenly divided')\n",
        "      print('----------------')\n",
        "    else:\n",
        "      print('The null hypothesis is correct, the Republican support is evenly divided')\n",
        "      print('----------------')\n",
        "\n",
        "\n"
      ],
      "execution_count": 0,
      "outputs": []
    },
    {
      "cell_type": "code",
      "metadata": {
        "id": "TJhB4lYJ9JGG",
        "colab_type": "code",
        "colab": {}
      },
      "source": [
        "def dem_zero_sup(n):\n",
        "  print('Alpha =',n)\n",
        "  print('*** DEMOCRATS ZERO SUPPORT *** ')                          \n",
        "  for x in namescolumns:\n",
        "    print('\\nANALIZING..... ',x)\n",
        "    print(' Null hypothesis: 0 support for the',x, 'project.')\n",
        "    ttest_data= ttest_1samp(democrat[x], 0, nan_policy='omit')\n",
        "    print('   t-statistic:',ttest_data[0], '  p-value:', ttest_data[1])\n",
        "    if ttest_data[1] < alpha_value:\n",
        "      print(' We reject the null hypothesis. This suggest that there is some support for the',x,'project')\n",
        "      print('----------------')\n",
        "    else:\n",
        "      print('The null hypothesis is correct. There is no support for the',x ,'project')\n",
        "      print('----------------')\n",
        "\n",
        "def dem_eq_support(n):\n",
        "  print('Alpha =',n)\n",
        "  print('*** DEMOCRATS EQUAL SUPPORT *** ') \n",
        "  for x in namescolumns:\n",
        "    print('\\nANALIZING..... ',x)\n",
        "    print('Null hypothesis: the Republican support is evenly divided.')\n",
        "    ttest_immi_alt= ttest_1samp(democrat[x], 0.5, nan_policy='omit') #if pvalue is less than 0.05 then calculate for my second alternative\n",
        "    print('   t-statistic:',ttest_immi_rep[0], ' p-value:', ttest_immi_rep[1])\n",
        "    if ttest_immi_alt[1] < alpha_value:\n",
        "      print('   We reject the null hypothesis for the',x,'project. The ssupport is not evenly divided')\n",
        "      print('----------------')\n",
        "    else:\n",
        "      print('The null hypothesis is correct, the Democrats support is evenly divided')\n",
        "      print('----------------')\n",
        "\n",
        "alpha_value=0.05"
      ],
      "execution_count": 0,
      "outputs": []
    },
    {
      "cell_type": "code",
      "metadata": {
        "id": "4EjAjqoK8OGX",
        "colab_type": "code",
        "colab": {
          "base_uri": "https://localhost:8080/",
          "height": 1000
        },
        "outputId": "47871560-7f6f-4561-cf55-0821d0c29f2c"
      },
      "source": [
        "rep_zero_sup(alpha_value)"
      ],
      "execution_count": 272,
      "outputs": [
        {
          "output_type": "stream",
          "text": [
            "Alpha = 0.01\n",
            "*** REPUBLICANS ZERO SUPPORT *** \n",
            "\n",
            "ANALIZING.....  handicapped-infants\n",
            " Null hypothesis: 0 support for the handicapped-infants project.\n",
            "   t-statistic: 6.159569669016066   p-value: 5.434587970316366e-09\n",
            " We reject the null hypothesis. This suggest that there is some support for the handicapped-infants project\n",
            "----------------\n",
            "\n",
            "ANALIZING.....  water-project\n",
            " Null hypothesis: 0 support for the water-project project.\n",
            "   t-statistic: 12.28932045559371   p-value: 2.525482675130834e-24\n",
            " We reject the null hypothesis. This suggest that there is some support for the water-project project\n",
            "----------------\n",
            "\n",
            "ANALIZING.....  budget\n",
            " Null hypothesis: 0 support for the budget project.\n",
            "   t-statistic: 5.02528816355446   p-value: 1.3107521045196396e-06\n",
            " We reject the null hypothesis. This suggest that there is some support for the budget project\n",
            "----------------\n",
            "\n",
            "ANALIZING.....  physician-fee-freeze\n",
            " Null hypothesis: 0 support for the physician-fee-freeze project.\n",
            "   t-statistic: 115.61141812122193   p-value: 4.438624448197153e-159\n",
            " We reject the null hypothesis. This suggest that there is some support for the physician-fee-freeze project\n",
            "----------------\n",
            "\n",
            "ANALIZING.....  el-salvador-aid\n",
            " Null hypothesis: 0 support for the el-salvador-aid project.\n",
            "   t-statistic: 56.73182528352142   p-value: 1.0573299896233442e-109\n",
            " We reject the null hypothesis. This suggest that there is some support for the el-salvador-aid project\n",
            "----------------\n",
            "\n",
            "ANALIZING.....  religious-groups\n",
            " Null hypothesis: 0 support for the religious-groups project.\n",
            "   t-statistic: 38.02862698794469   p-value: 1.4751069893318224e-83\n",
            " We reject the null hypothesis. This suggest that there is some support for the religious-groups project\n",
            "----------------\n",
            "\n",
            "ANALIZING.....  anti-satellite-ban\n",
            " Null hypothesis: 0 support for the anti-satellite-ban project.\n",
            "   t-statistic: 7.1448429295405   p-value: 2.954236755913103e-11\n",
            " We reject the null hypothesis. This suggest that there is some support for the anti-satellite-ban project\n",
            "----------------\n",
            "\n",
            "ANALIZING.....  aid-to-contras\n",
            " Null hypothesis: 0 support for the aid-to-contras project.\n",
            "   t-statistic: 5.305692786041199   p-value: 3.7903923869499887e-07\n",
            " We reject the null hypothesis. This suggest that there is some support for the aid-to-contras project\n",
            "----------------\n",
            "\n",
            "ANALIZING.....  mx-missile\n",
            " Null hypothesis: 0 support for the mx-missile project.\n",
            "   t-statistic: 4.61979066121233   p-value: 7.73159348469265e-06\n",
            " We reject the null hypothesis. This suggest that there is some support for the mx-missile project\n",
            "----------------\n",
            "\n",
            "ANALIZING.....  immigration\n",
            " Null hypothesis: 0 support for the immigration project.\n",
            "   t-statistic: 14.376541013291384   p-value: 7.541248569126767e-31\n",
            " We reject the null hypothesis. This suggest that there is some support for the immigration project\n",
            "----------------\n",
            "\n",
            "ANALIZING.....  synfuels\n",
            " Null hypothesis: 0 support for the synfuels project.\n",
            "   t-statistic: 4.903414959073885   p-value: 2.3188606914425685e-06\n",
            " We reject the null hypothesis. This suggest that there is some support for the synfuels project\n",
            "----------------\n",
            "\n",
            "ANALIZING.....  education\n",
            " Null hypothesis: 0 support for the education project.\n",
            "   t-statistic: 32.24127789030702   p-value: 2.295255722861058e-70\n",
            " We reject the null hypothesis. This suggest that there is some support for the education project\n",
            "----------------\n",
            "\n",
            "ANALIZING.....  right-to-sue\n",
            " Null hypothesis: 0 support for the right-to-sue project.\n",
            "   t-statistic: 31.153578519095596   p-value: 4.1784590643494416e-69\n",
            " We reject the null hypothesis. This suggest that there is some support for the right-to-sue project\n",
            "----------------\n",
            "\n",
            "ANALIZING.....  crime\n",
            " Null hypothesis: 0 support for the crime project.\n",
            "   t-statistic: 91.79687721631203   p-value: 2.672177432250972e-140\n",
            " We reject the null hypothesis. This suggest that there is some support for the crime project\n",
            "----------------\n",
            "\n",
            "ANALIZING.....  duty-free\n",
            " Null hypothesis: 0 support for the duty-free project.\n",
            "   t-statistic: 3.9091802389817065   p-value: 0.00013809783981978333\n",
            " We reject the null hypothesis. This suggest that there is some support for the duty-free project\n",
            "----------------\n",
            "\n",
            "ANALIZING.....  south-africa\n",
            " Null hypothesis: 0 support for the south-africa project.\n",
            "   t-statistic: 16.685322891691367   p-value: 1.4783110062038894e-35\n",
            " We reject the null hypothesis. This suggest that there is some support for the south-africa project\n",
            "----------------\n"
          ],
          "name": "stdout"
        }
      ]
    },
    {
      "cell_type": "code",
      "metadata": {
        "id": "2kXqQg-z8Poo",
        "colab_type": "code",
        "colab": {
          "base_uri": "https://localhost:8080/",
          "height": 1000
        },
        "outputId": "c8dfdde7-3618-4fc6-b263-8c1991d68964"
      },
      "source": [
        "rep_eq_support(alpha_value)"
      ],
      "execution_count": 273,
      "outputs": [
        {
          "output_type": "stream",
          "text": [
            "Alpha = 0.01\n",
            "*** REPUBLICANS EQUAL SUPPORT *** \n",
            "\n",
            "ANALIZING.....  handicapped-infants\n",
            "Null hypothesis: the Republican support is evenly divided.\n",
            "   t-statistic: 3.9975252761343896  p-value: 0.00010154897627277522\n",
            "   We reject the null hypothesis for the handicapped-infants project. The ssupport is not evenly divided\n",
            "----------------\n",
            "\n",
            "ANALIZING.....  water-project\n",
            "Null hypothesis: the Republican support is evenly divided.\n",
            "   t-statistic: 3.9975252761343896  p-value: 0.00010154897627277522\n",
            "The null hypothesis is correct, the Republican support is evenly divided\n",
            "----------------\n",
            "\n",
            "ANALIZING.....  budget\n",
            "Null hypothesis: the Republican support is evenly divided.\n",
            "   t-statistic: 3.9975252761343896  p-value: 0.00010154897627277522\n",
            "   We reject the null hypothesis for the budget project. The ssupport is not evenly divided\n",
            "----------------\n",
            "\n",
            "ANALIZING.....  physician-fee-freeze\n",
            "Null hypothesis: the Republican support is evenly divided.\n",
            "   t-statistic: 3.9975252761343896  p-value: 0.00010154897627277522\n",
            "   We reject the null hypothesis for the physician-fee-freeze project. The ssupport is not evenly divided\n",
            "----------------\n",
            "\n",
            "ANALIZING.....  el-salvador-aid\n",
            "Null hypothesis: the Republican support is evenly divided.\n",
            "   t-statistic: 3.9975252761343896  p-value: 0.00010154897627277522\n",
            "   We reject the null hypothesis for the el-salvador-aid project. The ssupport is not evenly divided\n",
            "----------------\n",
            "\n",
            "ANALIZING.....  religious-groups\n",
            "Null hypothesis: the Republican support is evenly divided.\n",
            "   t-statistic: 3.9975252761343896  p-value: 0.00010154897627277522\n",
            "   We reject the null hypothesis for the religious-groups project. The ssupport is not evenly divided\n",
            "----------------\n",
            "\n",
            "ANALIZING.....  anti-satellite-ban\n",
            "Null hypothesis: the Republican support is evenly divided.\n",
            "   t-statistic: 3.9975252761343896  p-value: 0.00010154897627277522\n",
            "   We reject the null hypothesis for the anti-satellite-ban project. The ssupport is not evenly divided\n",
            "----------------\n",
            "\n",
            "ANALIZING.....  aid-to-contras\n",
            "Null hypothesis: the Republican support is evenly divided.\n",
            "   t-statistic: 3.9975252761343896  p-value: 0.00010154897627277522\n",
            "   We reject the null hypothesis for the aid-to-contras project. The ssupport is not evenly divided\n",
            "----------------\n",
            "\n",
            "ANALIZING.....  mx-missile\n",
            "Null hypothesis: the Republican support is evenly divided.\n",
            "   t-statistic: 3.9975252761343896  p-value: 0.00010154897627277522\n",
            "   We reject the null hypothesis for the mx-missile project. The ssupport is not evenly divided\n",
            "----------------\n",
            "\n",
            "ANALIZING.....  immigration\n",
            "Null hypothesis: the Republican support is evenly divided.\n",
            "   t-statistic: 3.9975252761343896  p-value: 0.00010154897627277522\n",
            "The null hypothesis is correct, the Republican support is evenly divided\n",
            "----------------\n",
            "\n",
            "ANALIZING.....  synfuels\n",
            "Null hypothesis: the Republican support is evenly divided.\n",
            "   t-statistic: 3.9975252761343896  p-value: 0.00010154897627277522\n",
            "   We reject the null hypothesis for the synfuels project. The ssupport is not evenly divided\n",
            "----------------\n",
            "\n",
            "ANALIZING.....  education\n",
            "Null hypothesis: the Republican support is evenly divided.\n",
            "   t-statistic: 3.9975252761343896  p-value: 0.00010154897627277522\n",
            "   We reject the null hypothesis for the education project. The ssupport is not evenly divided\n",
            "----------------\n",
            "\n",
            "ANALIZING.....  right-to-sue\n",
            "Null hypothesis: the Republican support is evenly divided.\n",
            "   t-statistic: 3.9975252761343896  p-value: 0.00010154897627277522\n",
            "   We reject the null hypothesis for the right-to-sue project. The ssupport is not evenly divided\n",
            "----------------\n",
            "\n",
            "ANALIZING.....  crime\n",
            "Null hypothesis: the Republican support is evenly divided.\n",
            "   t-statistic: 3.9975252761343896  p-value: 0.00010154897627277522\n",
            "   We reject the null hypothesis for the crime project. The ssupport is not evenly divided\n",
            "----------------\n",
            "\n",
            "ANALIZING.....  duty-free\n",
            "Null hypothesis: the Republican support is evenly divided.\n",
            "   t-statistic: 3.9975252761343896  p-value: 0.00010154897627277522\n",
            "   We reject the null hypothesis for the duty-free project. The ssupport is not evenly divided\n",
            "----------------\n",
            "\n",
            "ANALIZING.....  south-africa\n",
            "Null hypothesis: the Republican support is evenly divided.\n",
            "   t-statistic: 3.9975252761343896  p-value: 0.00010154897627277522\n",
            "   We reject the null hypothesis for the south-africa project. The ssupport is not evenly divided\n",
            "----------------\n"
          ],
          "name": "stdout"
        }
      ]
    },
    {
      "cell_type": "code",
      "metadata": {
        "id": "UqCXovSl8x1B",
        "colab_type": "code",
        "colab": {
          "base_uri": "https://localhost:8080/",
          "height": 1000
        },
        "outputId": "13259aaa-b406-426d-c68c-3f935f3e100a"
      },
      "source": [
        "dem_zero_sup(alpha_value)"
      ],
      "execution_count": 274,
      "outputs": [
        {
          "output_type": "stream",
          "text": [
            "Alpha = 0.01\n",
            "*** DEMOCRATS ZERO SUPPORT *** \n",
            "\n",
            "ANALIZING.....  handicapped-infants\n",
            " Null hypothesis: 0 support for the handicapped-infants project.\n",
            "   t-statistic: 19.825711173357988   p-value: 1.0391992873567661e-53\n",
            " We reject the null hypothesis. This suggest that there is some support for the handicapped-infants project\n",
            "----------------\n",
            "\n",
            "ANALIZING.....  water-project\n",
            " Null hypothesis: 0 support for the water-project project.\n",
            "   t-statistic: 15.49193338482967   p-value: 6.633846650320544e-38\n",
            " We reject the null hypothesis. This suggest that there is some support for the water-project project\n",
            "----------------\n",
            "\n",
            "ANALIZING.....  budget\n",
            " Null hypothesis: 0 support for the budget project.\n",
            "   t-statistic: 45.42101898369565   p-value: 2.3005685556379574e-125\n",
            " We reject the null hypothesis. This suggest that there is some support for the budget project\n",
            "----------------\n",
            "\n",
            "ANALIZING.....  physician-fee-freeze\n",
            " Null hypothesis: 0 support for the physician-fee-freeze project.\n",
            "   t-statistic: 3.8396428405331067   p-value: 0.0001550891349511097\n",
            " We reject the null hypothesis. This suggest that there is some support for the physician-fee-freeze project\n",
            "----------------\n",
            "\n",
            "ANALIZING.....  el-salvador-aid\n",
            " Null hypothesis: 0 support for the el-salvador-aid project.\n",
            "   t-statistic: 8.357631243360764   p-value: 4.2308289907515245e-15\n",
            " We reject the null hypothesis. This suggest that there is some support for the el-salvador-aid project\n",
            "----------------\n",
            "\n",
            "ANALIZING.....  religious-groups\n",
            " Null hypothesis: 0 support for the religious-groups project.\n",
            "   t-statistic: 15.302142188450464   p-value: 5.132676545586625e-38\n",
            " We reject the null hypothesis. This suggest that there is some support for the religious-groups project\n",
            "----------------\n",
            "\n",
            "ANALIZING.....  anti-satellite-ban\n",
            " Null hypothesis: 0 support for the anti-satellite-ban project.\n",
            "   t-statistic: 29.573235723985977   p-value: 7.509185299794888e-85\n",
            " We reject the null hypothesis. This suggest that there is some support for the anti-satellite-ban project\n",
            "----------------\n",
            "\n",
            "ANALIZING.....  aid-to-contras\n",
            " Null hypothesis: 0 support for the aid-to-contras project.\n",
            "   t-statistic: 35.62645708521189   p-value: 1.947251169415608e-102\n",
            " We reject the null hypothesis. This suggest that there is some support for the aid-to-contras project\n",
            "----------------\n",
            "\n",
            "ANALIZING.....  mx-missile\n",
            " Null hypothesis: 0 support for the mx-missile project.\n",
            "   t-statistic: 27.81965731876173   p-value: 4.483744774315864e-78\n",
            " We reject the null hypothesis. This suggest that there is some support for the mx-missile project\n",
            "----------------\n",
            "\n",
            "ANALIZING.....  immigration\n",
            " Null hypothesis: 0 support for the immigration project.\n",
            "   t-statistic: 15.28812018218839   p-value: 3.754505831904643e-38\n",
            " We reject the null hypothesis. This suggest that there is some support for the immigration project\n",
            "----------------\n",
            "\n",
            "ANALIZING.....  synfuels\n",
            " Null hypothesis: 0 support for the synfuels project.\n",
            "   t-statistic: 16.125992032976423   p-value: 9.159793118867048e-41\n",
            " We reject the null hypothesis. This suggest that there is some support for the synfuels project\n",
            "----------------\n",
            "\n",
            "ANALIZING.....  education\n",
            " Null hypothesis: 0 support for the education project.\n",
            "   t-statistic: 6.474217555639174   p-value: 5.068051786108534e-10\n",
            " We reject the null hypothesis. This suggest that there is some support for the education project\n",
            "----------------\n",
            "\n",
            "ANALIZING.....  right-to-sue\n",
            " Null hypothesis: 0 support for the right-to-sue project.\n",
            "   t-statistic: 10.117466505584296   p-value: 2.1080670854972635e-20\n",
            " We reject the null hypothesis. This suggest that there is some support for the right-to-sue project\n",
            "----------------\n",
            "\n",
            "ANALIZING.....  crime\n",
            " Null hypothesis: 0 support for the crime project.\n",
            "   t-statistic: 11.745810821577512   p-value: 9.087409645908879e-26\n",
            " We reject the null hypothesis. This suggest that there is some support for the crime project\n",
            "----------------\n",
            "\n",
            "ANALIZING.....  duty-free\n",
            " Null hypothesis: 0 support for the duty-free project.\n",
            "   t-statistic: 20.965696734438367   p-value: 5.25166154167096e-57\n",
            " We reject the null hypothesis. This suggest that there is some support for the duty-free project\n",
            "----------------\n",
            "\n",
            "ANALIZING.....  south-africa\n",
            " Null hypothesis: 0 support for the south-africa project.\n",
            "   t-statistic: 51.50404514857709   p-value: 3.0776391937291054e-111\n",
            " We reject the null hypothesis. This suggest that there is some support for the south-africa project\n",
            "----------------\n"
          ],
          "name": "stdout"
        }
      ]
    },
    {
      "cell_type": "code",
      "metadata": {
        "id": "OogG701D8xo6",
        "colab_type": "code",
        "colab": {
          "base_uri": "https://localhost:8080/",
          "height": 1000
        },
        "outputId": "db6b0b41-6039-4fa4-86f5-d7e2b69dcaf5"
      },
      "source": [
        "dem_eq_support(alpha_value)"
      ],
      "execution_count": 275,
      "outputs": [
        {
          "output_type": "stream",
          "text": [
            "Alpha = 0.01\n",
            "*** DEMOCRATS EQUAL SUPPORT *** \n",
            "\n",
            "ANALIZING.....  handicapped-infants\n",
            "Null hypothesis: the Republican support is evenly divided.\n",
            "   t-statistic: 3.9975252761343896  p-value: 0.00010154897627277522\n",
            "   We reject the null hypothesis for the handicapped-infants project. The ssupport is not evenly divided\n",
            "----------------\n",
            "\n",
            "ANALIZING.....  water-project\n",
            "Null hypothesis: the Republican support is evenly divided.\n",
            "   t-statistic: 3.9975252761343896  p-value: 0.00010154897627277522\n",
            "The null hypothesis is correct, the Democrats support is evenly divided\n",
            "----------------\n",
            "\n",
            "ANALIZING.....  budget\n",
            "Null hypothesis: the Republican support is evenly divided.\n",
            "   t-statistic: 3.9975252761343896  p-value: 0.00010154897627277522\n",
            "   We reject the null hypothesis for the budget project. The ssupport is not evenly divided\n",
            "----------------\n",
            "\n",
            "ANALIZING.....  physician-fee-freeze\n",
            "Null hypothesis: the Republican support is evenly divided.\n",
            "   t-statistic: 3.9975252761343896  p-value: 0.00010154897627277522\n",
            "   We reject the null hypothesis for the physician-fee-freeze project. The ssupport is not evenly divided\n",
            "----------------\n",
            "\n",
            "ANALIZING.....  el-salvador-aid\n",
            "Null hypothesis: the Republican support is evenly divided.\n",
            "   t-statistic: 3.9975252761343896  p-value: 0.00010154897627277522\n",
            "   We reject the null hypothesis for the el-salvador-aid project. The ssupport is not evenly divided\n",
            "----------------\n",
            "\n",
            "ANALIZING.....  religious-groups\n",
            "Null hypothesis: the Republican support is evenly divided.\n",
            "   t-statistic: 3.9975252761343896  p-value: 0.00010154897627277522\n",
            "The null hypothesis is correct, the Democrats support is evenly divided\n",
            "----------------\n",
            "\n",
            "ANALIZING.....  anti-satellite-ban\n",
            "Null hypothesis: the Republican support is evenly divided.\n",
            "   t-statistic: 3.9975252761343896  p-value: 0.00010154897627277522\n",
            "   We reject the null hypothesis for the anti-satellite-ban project. The ssupport is not evenly divided\n",
            "----------------\n",
            "\n",
            "ANALIZING.....  aid-to-contras\n",
            "Null hypothesis: the Republican support is evenly divided.\n",
            "   t-statistic: 3.9975252761343896  p-value: 0.00010154897627277522\n",
            "   We reject the null hypothesis for the aid-to-contras project. The ssupport is not evenly divided\n",
            "----------------\n",
            "\n",
            "ANALIZING.....  mx-missile\n",
            "Null hypothesis: the Republican support is evenly divided.\n",
            "   t-statistic: 3.9975252761343896  p-value: 0.00010154897627277522\n",
            "   We reject the null hypothesis for the mx-missile project. The ssupport is not evenly divided\n",
            "----------------\n",
            "\n",
            "ANALIZING.....  immigration\n",
            "Null hypothesis: the Republican support is evenly divided.\n",
            "   t-statistic: 3.9975252761343896  p-value: 0.00010154897627277522\n",
            "The null hypothesis is correct, the Democrats support is evenly divided\n",
            "----------------\n",
            "\n",
            "ANALIZING.....  synfuels\n",
            "Null hypothesis: the Republican support is evenly divided.\n",
            "   t-statistic: 3.9975252761343896  p-value: 0.00010154897627277522\n",
            "The null hypothesis is correct, the Democrats support is evenly divided\n",
            "----------------\n",
            "\n",
            "ANALIZING.....  education\n",
            "Null hypothesis: the Republican support is evenly divided.\n",
            "   t-statistic: 3.9975252761343896  p-value: 0.00010154897627277522\n",
            "   We reject the null hypothesis for the education project. The ssupport is not evenly divided\n",
            "----------------\n",
            "\n",
            "ANALIZING.....  right-to-sue\n",
            "Null hypothesis: the Republican support is evenly divided.\n",
            "   t-statistic: 3.9975252761343896  p-value: 0.00010154897627277522\n",
            "   We reject the null hypothesis for the right-to-sue project. The ssupport is not evenly divided\n",
            "----------------\n",
            "\n",
            "ANALIZING.....  crime\n",
            "Null hypothesis: the Republican support is evenly divided.\n",
            "   t-statistic: 3.9975252761343896  p-value: 0.00010154897627277522\n",
            "   We reject the null hypothesis for the crime project. The ssupport is not evenly divided\n",
            "----------------\n",
            "\n",
            "ANALIZING.....  duty-free\n",
            "Null hypothesis: the Republican support is evenly divided.\n",
            "   t-statistic: 3.9975252761343896  p-value: 0.00010154897627277522\n",
            "   We reject the null hypothesis for the duty-free project. The ssupport is not evenly divided\n",
            "----------------\n",
            "\n",
            "ANALIZING.....  south-africa\n",
            "Null hypothesis: the Republican support is evenly divided.\n",
            "   t-statistic: 3.9975252761343896  p-value: 0.00010154897627277522\n",
            "   We reject the null hypothesis for the south-africa project. The ssupport is not evenly divided\n",
            "----------------\n"
          ],
          "name": "stdout"
        }
      ]
    },
    {
      "cell_type": "markdown",
      "metadata": {
        "id": "kWUGdhGa9xoK",
        "colab_type": "text"
      },
      "source": [
        "# 2 Sample Test"
      ]
    },
    {
      "cell_type": "markdown",
      "metadata": {
        "id": "73xXlkXP9lbA",
        "colab_type": "text"
      },
      "source": [
        "\n",
        "1. Using hypothesis testing, find an issue that democrats support more than republicans with p < 0.01\n",
        "2. Using hypothesis testing, find an issue that republicans support more than democrats with p < 0.01\n",
        "3. Using hypothesis testing, find an issue where the difference between republicans and democrats has p > 0.1 (i.e. there may not be much of a difference)"
      ]
    },
    {
      "cell_type": "code",
      "metadata": {
        "colab_type": "code",
        "id": "CnDl3iM40chN",
        "colab": {
          "base_uri": "https://localhost:8080/",
          "height": 1000
        },
        "outputId": "1fddb121-cbcd-49da-c0a8-168b351cbf95"
      },
      "source": [
        "namescolumns=['handicapped-infants','water-project','budget','physician-fee-freeze', 'el-salvador-aid',\n",
        "                          'religious-groups','anti-satellite-ban',\n",
        "                          'aid-to-contras','mx-missile','immigration',\n",
        "                          'synfuels', 'education', 'right-to-sue','crime','duty-free',\n",
        "                          'south-africa']\n",
        "#define my function that analize all my data\n",
        "def two_dample_test(n,m):\n",
        "  for x in namescolumns: #for each column\n",
        "    print('\\nANALIZING..... ',x)\n",
        " # print(' Null hypothesis: 0 support for the',x, 'project.')\n",
        "\n",
        "    ttest_2= ttest_ind(republican[x], democrat[x], nan_policy='omit') #calculate my ttest\n",
        "    #Print the mean of each party in a certain column\n",
        "    print(' Mean Republicans:',republican[x].mean()) \n",
        "    print(' Mean Democrats:  ',democrat[x].mean())\n",
        "    print(' T-statistic:',ttest_2[0],  '    P-value:', ttest_2[1]) #print the data that is my variable ttest_2 that has my t-test results\n",
        "\n",
        "    #according to my assignament my alpha value for the points 1 and 2 is 0.01 , that was saved in the variable alpha_value=n\n",
        "    if ttest_2[1] < n:\n",
        "      print('   We reject the null hypothesis. My data is not similar. P_value',ttest_2[1],'<',n) #If my p_value is smaller than my alpha means that my data is not similar for that reason I reject my Null hypothesis\n",
        "      \n",
        "      if republican[x].mean()>democrat[x].mean(): #As my samples are not similar then with the mean I can chechk who support more a project because the 'YES' votes were changed by ones values\n",
        "        print('Republicans support more the project:',x)\n",
        "      else:\n",
        "        print('Democrats support more the project:',x)\n",
        "    else : #for all those samples in which my p_value not < than alpha) test the second condition of my assignment that says my alpha is 0.1\n",
        "      if ttest_2[1] > m:\n",
        "        print('My data is similar and my P_value is bigger than',m)\n",
        "        print('!!!!!!!!')\n",
        "\n",
        "alpha_value=0.01\n",
        "alpha_no_dif=0.1\n",
        "two_dample_test(alpha_value,alpha_no_dif)"
      ],
      "execution_count": 271,
      "outputs": [
        {
          "output_type": "stream",
          "text": [
            "\n",
            "ANALIZING.....  handicapped-infants\n",
            " Mean Republicans: 0.18787878787878787\n",
            " Mean Democrats:   0.6046511627906976\n",
            " T-statistic: -9.205264294809222     P-value: 1.613440327937243e-18\n",
            "   We reject the null hypothesis. My data is not similar. P_value 1.613440327937243e-18 < 0.01\n",
            "Democrats support more the project: handicapped-infants\n",
            "\n",
            "ANALIZING.....  water-project\n",
            " Mean Republicans: 0.5067567567567568\n",
            " Mean Democrats:   0.502092050209205\n",
            " T-statistic: 0.08896538137868286     P-value: 0.9291556823993485\n",
            "My data is similar and my P_value is bigger than 0.1\n",
            "!!!!!!!!\n",
            "\n",
            "ANALIZING.....  budget\n",
            " Mean Republicans: 0.13414634146341464\n",
            " Mean Democrats:   0.8884615384615384\n",
            " T-statistic: -23.21277691701378     P-value: 2.0703402795404463e-77\n",
            "   We reject the null hypothesis. My data is not similar. P_value 2.0703402795404463e-77 < 0.01\n",
            "Democrats support more the project: budget\n",
            "\n",
            "ANALIZING.....  physician-fee-freeze\n",
            " Mean Republicans: 0.9878787878787879\n",
            " Mean Democrats:   0.05405405405405406\n",
            " T-statistic: 49.36708157301406     P-value: 1.994262314074344e-177\n",
            "   We reject the null hypothesis. My data is not similar. P_value 1.994262314074344e-177 < 0.01\n",
            "Republicans support more the project: physician-fee-freeze\n",
            "\n",
            "ANALIZING.....  el-salvador-aid\n",
            " Mean Republicans: 0.9515151515151515\n",
            " Mean Democrats:   0.21568627450980393\n",
            " T-statistic: 21.13669261173219     P-value: 5.600520111729011e-68\n",
            "   We reject the null hypothesis. My data is not similar. P_value 5.600520111729011e-68 < 0.01\n",
            "Republicans support more the project: el-salvador-aid\n",
            "\n",
            "ANALIZING.....  religious-groups\n",
            " Mean Republicans: 0.8975903614457831\n",
            " Mean Democrats:   0.47674418604651164\n",
            " T-statistic: 9.737575825219457     P-value: 2.3936722520597287e-20\n",
            "   We reject the null hypothesis. My data is not similar. P_value 2.3936722520597287e-20 < 0.01\n",
            "Republicans support more the project: religious-groups\n",
            "\n",
            "ANALIZING.....  anti-satellite-ban\n",
            " Mean Republicans: 0.24074074074074073\n",
            " Mean Democrats:   0.7722007722007722\n",
            " T-statistic: -12.526187929077842     P-value: 8.521033017443867e-31\n",
            "   We reject the null hypothesis. My data is not similar. P_value 8.521033017443867e-31 < 0.01\n",
            "Democrats support more the project: anti-satellite-ban\n",
            "\n",
            "ANALIZING.....  aid-to-contras\n",
            " Mean Republicans: 0.15286624203821655\n",
            " Mean Democrats:   0.8288973384030418\n",
            " T-statistic: -18.052093200819733     P-value: 2.82471841372357e-54\n",
            "   We reject the null hypothesis. My data is not similar. P_value 2.82471841372357e-54 < 0.01\n",
            "Democrats support more the project: aid-to-contras\n",
            "\n",
            "ANALIZING.....  mx-missile\n",
            " Mean Republicans: 0.11515151515151516\n",
            " Mean Democrats:   0.7580645161290323\n",
            " T-statistic: -16.437503268542994     P-value: 5.03079265310811e-47\n",
            "   We reject the null hypothesis. My data is not similar. P_value 5.03079265310811e-47 < 0.01\n",
            "Democrats support more the project: mx-missile\n",
            "\n",
            "ANALIZING.....  immigration\n",
            " Mean Republicans: 0.5575757575757576\n",
            " Mean Democrats:   0.4714828897338403\n",
            " T-statistic: 1.7359117329695164     P-value: 0.08330248490425066\n",
            "\n",
            "ANALIZING.....  synfuels\n",
            " Mean Republicans: 0.1320754716981132\n",
            " Mean Democrats:   0.5058823529411764\n",
            " T-statistic: -8.293603989407588     P-value: 1.5759322301054064e-15\n",
            "   We reject the null hypothesis. My data is not similar. P_value 1.5759322301054064e-15 < 0.01\n",
            "Democrats support more the project: synfuels\n",
            "\n",
            "ANALIZING.....  education\n",
            " Mean Republicans: 0.8709677419354839\n",
            " Mean Democrats:   0.14457831325301204\n",
            " T-statistic: 20.500685724563073     P-value: 1.8834203990450192e-64\n",
            "   We reject the null hypothesis. My data is not similar. P_value 1.8834203990450192e-64 < 0.01\n",
            "Republicans support more the project: education\n",
            "\n",
            "ANALIZING.....  right-to-sue\n",
            " Mean Republicans: 0.8607594936708861\n",
            " Mean Democrats:   0.2896825396825397\n",
            " T-statistic: 13.51064251060933     P-value: 1.2278581709672758e-34\n",
            "   We reject the null hypothesis. My data is not similar. P_value 1.2278581709672758e-34 < 0.01\n",
            "Republicans support more the project: right-to-sue\n",
            "\n",
            "ANALIZING.....  crime\n",
            " Mean Republicans: 0.9813664596273292\n",
            " Mean Democrats:   0.35019455252918286\n",
            " T-statistic: 16.342085656197696     P-value: 9.952342705606092e-47\n",
            "   We reject the null hypothesis. My data is not similar. P_value 9.952342705606092e-47 < 0.01\n",
            "Republicans support more the project: crime\n",
            "\n",
            "ANALIZING.....  duty-free\n",
            " Mean Republicans: 0.08974358974358974\n",
            " Mean Democrats:   0.6374501992031872\n",
            " T-statistic: -12.853146132542978     P-value: 5.997697174347365e-32\n",
            "   We reject the null hypothesis. My data is not similar. P_value 5.997697174347365e-32 < 0.01\n",
            "Democrats support more the project: duty-free\n",
            "\n",
            "ANALIZING.....  south-africa\n",
            " Mean Republicans: 0.6575342465753424\n",
            " Mean Democrats:   0.9351351351351351\n",
            " T-statistic: -6.849454815841208     P-value: 3.652674361672226e-11\n",
            "   We reject the null hypothesis. My data is not similar. P_value 3.652674361672226e-11 < 0.01\n",
            "Democrats support more the project: south-africa\n"
          ],
          "name": "stdout"
        }
      ]
    },
    {
      "cell_type": "code",
      "metadata": {
        "id": "SY7xYy4QHLYK",
        "colab_type": "code",
        "colab": {
          "base_uri": "https://localhost:8080/",
          "height": 1000
        },
        "outputId": "a7943a71-5809-47f5-c0c9-479eb0ea3aa9"
      },
      "source": [
        "\n",
        "for i in namescolumns:\n",
        "  ax = plt.gca()\n",
        "  data=democrat[i].value_counts()\n",
        "  data.plot(kind='barh',figsize=(3,3), color=np.random.rand(3,),  ax=ax,subplots=True,)\n",
        "  plt.show();\n"
      ],
      "execution_count": 363,
      "outputs": [
        {
          "output_type": "display_data",
          "data": {
            "image/png": "[encoded data removed]",
            "text/plain": [
              "<Figure size 432x288 with 1 Axes>"
            ]
          },
          "metadata": {
            "tags": []
          }
        },
        {
          "output_type": "display_data",
          "data": {
            "image/png": "[encoded data removed]",
            "text/plain": [
              "<Figure size 432x288 with 1 Axes>"
            ]
          },
          "metadata": {
            "tags": []
          }
        },
        {
          "output_type": "display_data",
          "data": {
            "image/png": "[encoded data removed]",
            "text/plain": [
              "<Figure size 432x288 with 1 Axes>"
            ]
          },
          "metadata": {
            "tags": []
          }
        },
        {
          "output_type": "display_data",
          "data": {
            "image/png": "[encoded data removed]",
            "text/plain": [
              "<Figure size 432x288 with 1 Axes>"
            ]
          },
          "metadata": {
            "tags": []
          }
        },
        {
          "output_type": "display_data",
          "data": {
            "image/png": "[encoded data removed]",
            "text/plain": [
              "<Figure size 432x288 with 1 Axes>"
            ]
          },
          "metadata": {
            "tags": []
          }
        },
        {
          "output_type": "display_data",
          "data": {
            "image/png": "[encoded data removed]",
            "text/plain": [
              "<Figure size 432x288 with 1 Axes>"
            ]
          },
          "metadata": {
            "tags": []
          }
        },
        {
          "output_type": "display_data",
          "data": {
            "image/png": "[encoded data removed]",
            "text/plain": [
              "<Figure size 432x288 with 1 Axes>"
            ]
          },
          "metadata": {
            "tags": []
          }
        },
        {
          "output_type": "display_data",
          "data": {
            "image/png": "[encoded data removed]",
            "text/plain": [
              "<Figure size 432x288 with 1 Axes>"
            ]
          },
          "metadata": {
            "tags": []
          }
        },
        {
          "output_type": "display_data",
          "data": {
            "image/png": "[encoded data removed]",
            "text/plain": [
              "<Figure size 432x288 with 1 Axes>"
            ]
          },
          "metadata": {
            "tags": []
          }
        },
        {
          "output_type": "display_data",
          "data": {
            "image/png": "[encoded data removed]",
            "text/plain": [
              "<Figure size 432x288 with 1 Axes>"
            ]
          },
          "metadata": {
            "tags": []
          }
        },
        {
          "output_type": "display_data",
          "data": {
            "image/png": "[encoded data removed]",
            "text/plain": [
              "<Figure size 432x288 with 1 Axes>"
            ]
          },
          "metadata": {
            "tags": []
          }
        },
        {
          "output_type": "display_data",
          "data": {
            "image/png": "[encoded data removed]",
            "text/plain": [
              "<Figure size 432x288 with 1 Axes>"
            ]
          },
          "metadata": {
            "tags": []
          }
        },
        {
          "output_type": "display_data",
          "data": {
            "image/png": "[encoded data removed]",
            "text/plain": [
              "<Figure size 432x288 with 1 Axes>"
            ]
          },
          "metadata": {
            "tags": []
          }
        },
        {
          "output_type": "display_data",
          "data": {
            "image/png": "[encoded data removed]",
            "text/plain": [
              "<Figure size 432x288 with 1 Axes>"
            ]
          },
          "metadata": {
            "tags": []
          }
        },
        {
          "output_type": "display_data",
          "data": {
            "image/png": "[encoded data removed]",
            "text/plain": [
              "<Figure size 432x288 with 1 Axes>"
            ]
          },
          "metadata": {
            "tags": []
          }
        },
        {
          "output_type": "display_data",
          "data": {
            "image/png": "[encoded data removed]",
            "text/plain": [
              "<Figure size 432x288 with 1 Axes>"
            ]
          },
          "metadata": {
            "tags": []
          }
        }
      ]
    },
    {
      "cell_type": "code",
      "metadata": {
        "id": "geOyU2LbO7GN",
        "colab_type": "code",
        "colab": {}
      },
      "source": [
        ""
      ],
      "execution_count": 0,
      "outputs": []
    }
  ]
}